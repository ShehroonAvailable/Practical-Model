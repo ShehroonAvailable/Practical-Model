{
  "nbformat": 4,
  "nbformat_minor": 0,
  "metadata": {
    "colab": {
      "provenance": [],
      "gpuType": "T4",
      "authorship_tag": "ABX9TyMiv2gDmyvzhAnOoBXkVXAg",
      "include_colab_link": true
    },
    "kernelspec": {
      "name": "python3",
      "display_name": "Python 3"
    },
    "language_info": {
      "name": "python"
    },
    "accelerator": "GPU"
  },
  "cells": [
    {
      "cell_type": "markdown",
      "metadata": {
        "id": "view-in-github",
        "colab_type": "text"
      },
      "source": [
        "<a href=\"https://colab.research.google.com/github/ShehroonAvailable/Practical-Model/blob/main/practical_model.ipynb\" target=\"_parent\"><img src=\"https://colab.research.google.com/assets/colab-badge.svg\" alt=\"Open In Colab\"/></a>"
      ]
    },
    {
      "cell_type": "code",
      "execution_count": null,
      "metadata": {
        "id": "uTSmRraIKcDt"
      },
      "outputs": [],
      "source": [
        "!pip install transformers accelerate safetensors diffusers gradio\n",
        "import torch\n",
        "from diffusers import StableDiffusionPipeline\n",
        "import gradio as gr\n",
        "\n",
        "# Load Stable Diffusion v2 from Hugging Face\n",
        "pipe = StableDiffusionPipeline.from_pretrained(\n",
        "    \"stabilityai/stable-diffusion-2\",\n",
        "    torch_dtype=torch.float16\n",
        ")\n",
        "\n",
        "# Move model to GPU for faster generation\n",
        "pipe = pipe.to(\"cuda\")\n",
        "# prompt = \"A futuristic cyberpunk city at night, neon lights, ultra realistic\"\n",
        "# image = pipe(prompt).images[0]\n",
        "# # image.save(\"test.png\")\n",
        "# image\n",
        "\n",
        "\n",
        "def generate_image(prompt):\n",
        "    image = pipe(prompt).images[0]\n",
        "    return image\n",
        "\n",
        "demo = gr.Interface(\n",
        "    fn=generate_image,\n",
        "    inputs=gr.Textbox(lines=2, placeholder=\"Enter your prompt here...\"),\n",
        "    outputs=gr.Image(type=\"pil\"),\n",
        "    title=\"Text to Image Generator 🎨\",\n",
        "    description=\"Enter a text prompt and watch Stable Diffusion create an image.\"\n",
        ")\n",
        "\n",
        "demo.launch(share=True)  # share=True gives you a public link\n"
      ]
    }
  ]
}